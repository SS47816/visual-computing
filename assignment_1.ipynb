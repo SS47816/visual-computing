{
 "cells": [
  {
   "cell_type": "markdown",
   "id": "ca3bf5b7-b8c0-46b4-acb4-c71b14f581da",
   "metadata": {},
   "source": [
    "# Assignment 1: Pranoramic Image Stitching"
   ]
  },
  {
   "cell_type": "markdown",
   "id": "b7a9e740-ccfd-42ae-acbe-79738e9f698e",
   "metadata": {},
   "source": [
    "## Part 1: 2D Convolution"
   ]
  },
  {
   "cell_type": "code",
   "execution_count": null,
   "id": "e65368ed-6107-419f-b3b9-bd5706cab8b3",
   "metadata": {},
   "outputs": [],
   "source": []
  }
 ],
 "metadata": {
  "kernelspec": {
   "display_name": "Python 3 (ipykernel)",
   "language": "python",
   "name": "python3"
  },
  "language_info": {
   "codemirror_mode": {
    "name": "ipython",
    "version": 3
   },
   "file_extension": ".py",
   "mimetype": "text/x-python",
   "name": "python",
   "nbconvert_exporter": "python",
   "pygments_lexer": "ipython3",
   "version": "3.10.6"
  }
 },
 "nbformat": 4,
 "nbformat_minor": 5
}
